{
 "cells": [
  {
   "cell_type": "markdown",
   "metadata": {},
   "source": [
    "# 1. Data Wrangling"
   ]
  },
  {
   "cell_type": "code",
   "execution_count": 24,
   "metadata": {},
   "outputs": [
    {
     "data": {
      "text/html": [
       "<div>\n",
       "<style scoped>\n",
       "    .dataframe tbody tr th:only-of-type {\n",
       "        vertical-align: middle;\n",
       "    }\n",
       "\n",
       "    .dataframe tbody tr th {\n",
       "        vertical-align: top;\n",
       "    }\n",
       "\n",
       "    .dataframe thead th {\n",
       "        text-align: right;\n",
       "    }\n",
       "</style>\n",
       "<table border=\"1\" class=\"dataframe\">\n",
       "  <thead>\n",
       "    <tr style=\"text-align: right;\">\n",
       "      <th></th>\n",
       "      <th>0</th>\n",
       "      <th>1</th>\n",
       "      <th>2</th>\n",
       "      <th>3</th>\n",
       "      <th>4</th>\n",
       "      <th>5</th>\n",
       "      <th>6</th>\n",
       "      <th>7</th>\n",
       "      <th>8</th>\n",
       "      <th>9</th>\n",
       "      <th>10</th>\n",
       "    </tr>\n",
       "  </thead>\n",
       "  <tbody>\n",
       "    <tr>\n",
       "      <td>0</td>\n",
       "      <td>Burgwallen-Oude Zijde</td>\n",
       "      <td>Amsterdam</td>\n",
       "      <td>Wijk</td>\n",
       "      <td>WK036300</td>\n",
       "      <td>1.0</td>\n",
       "      <td>4305.0</td>\n",
       "      <td>787</td>\n",
       "      <td>599</td>\n",
       "      <td>3</td>\n",
       "      <td>25</td>\n",
       "      <td>54</td>\n",
       "    </tr>\n",
       "    <tr>\n",
       "      <td>1</td>\n",
       "      <td>Kop Zeedijk</td>\n",
       "      <td>Amsterdam</td>\n",
       "      <td>Buurt</td>\n",
       "      <td>BU03630000</td>\n",
       "      <td>1.0</td>\n",
       "      <td>1030.0</td>\n",
       "      <td>508</td>\n",
       "      <td>350</td>\n",
       "      <td>1</td>\n",
       "      <td>21</td>\n",
       "      <td>44</td>\n",
       "    </tr>\n",
       "    <tr>\n",
       "      <td>2</td>\n",
       "      <td>Oude Kerk e.o.</td>\n",
       "      <td>Amsterdam</td>\n",
       "      <td>Buurt</td>\n",
       "      <td>BU03630001</td>\n",
       "      <td>1.0</td>\n",
       "      <td>690.0</td>\n",
       "      <td>2328</td>\n",
       "      <td>1917</td>\n",
       "      <td>4</td>\n",
       "      <td>42</td>\n",
       "      <td>100</td>\n",
       "    </tr>\n",
       "    <tr>\n",
       "      <td>3</td>\n",
       "      <td>Burgwallen Oost</td>\n",
       "      <td>Amsterdam</td>\n",
       "      <td>Buurt</td>\n",
       "      <td>BU03630002</td>\n",
       "      <td>1.0</td>\n",
       "      <td>1590.0</td>\n",
       "      <td>445</td>\n",
       "      <td>278</td>\n",
       "      <td>3</td>\n",
       "      <td>21</td>\n",
       "      <td>53</td>\n",
       "    </tr>\n",
       "    <tr>\n",
       "      <td>4</td>\n",
       "      <td>Nes e.o.</td>\n",
       "      <td>Amsterdam</td>\n",
       "      <td>Buurt</td>\n",
       "      <td>BU03630003</td>\n",
       "      <td>1.0</td>\n",
       "      <td>360.0</td>\n",
       "      <td>1031</td>\n",
       "      <td>894</td>\n",
       "      <td>0</td>\n",
       "      <td>31</td>\n",
       "      <td>53</td>\n",
       "    </tr>\n",
       "  </tbody>\n",
       "</table>\n",
       "</div>"
      ],
      "text/plain": [
       "                      0          1      2           3    4       5     6   \\\n",
       "0  Burgwallen-Oude Zijde  Amsterdam   Wijk    WK036300  1.0  4305.0   787   \n",
       "1            Kop Zeedijk  Amsterdam  Buurt  BU03630000  1.0  1030.0   508   \n",
       "2         Oude Kerk e.o.  Amsterdam  Buurt  BU03630001  1.0   690.0  2328   \n",
       "3        Burgwallen Oost  Amsterdam  Buurt  BU03630002  1.0  1590.0   445   \n",
       "4               Nes e.o.  Amsterdam  Buurt  BU03630003  1.0   360.0  1031   \n",
       "\n",
       "     7  8   9    10  \n",
       "0   599  3  25   54  \n",
       "1   350  1  21   44  \n",
       "2  1917  4  42  100  \n",
       "3   278  3  21   53  \n",
       "4   894  0  31   53  "
      ]
     },
     "execution_count": 24,
     "metadata": {},
     "output_type": "execute_result"
    }
   ],
   "source": [
    "fellonies = pd.read_csv('/Users/elskedenbode/Downloads/Geregistreerde_misdrijven__wijken_en_buurten_2018_13082020_204702.csv', sep=';', skiprows=6, header=None)\n",
    "fellonies.head()\n",
    "#To Do:\n",
    "#Add column names\n",
    "#Drop column (3) Amsterdam and (4) Wijk/Buurt, (6) = 1\n",
    "#Relative paths for every dataframe (try from GoogleDrive)"
   ]
  },
  {
   "cell_type": "code",
   "execution_count": 30,
   "metadata": {},
   "outputs": [
    {
     "data": {
      "text/html": [
       "<div>\n",
       "<style scoped>\n",
       "    .dataframe tbody tr th:only-of-type {\n",
       "        vertical-align: middle;\n",
       "    }\n",
       "\n",
       "    .dataframe tbody tr th {\n",
       "        vertical-align: top;\n",
       "    }\n",
       "\n",
       "    .dataframe thead th {\n",
       "        text-align: right;\n",
       "    }\n",
       "</style>\n",
       "<table border=\"1\" class=\"dataframe\">\n",
       "  <thead>\n",
       "    <tr style=\"text-align: right;\">\n",
       "      <th></th>\n",
       "      <th>buurt</th>\n",
       "      <th>alleenstaand</th>\n",
       "      <th>gehuwd samenw. zonder kinderen</th>\n",
       "      <th>ongehuwd samenw. zonder kinderen</th>\n",
       "      <th>gehuwd samenw. met kinderen</th>\n",
       "      <th>ongehuwd samenw. met kinderen</th>\n",
       "      <th>eenoudergezin</th>\n",
       "      <th>overig</th>\n",
       "      <th>tehuisbewoner</th>\n",
       "      <th>totaal</th>\n",
       "    </tr>\n",
       "  </thead>\n",
       "  <tbody>\n",
       "    <tr>\n",
       "      <td>0</td>\n",
       "      <td>NaN</td>\n",
       "      <td>NaN</td>\n",
       "      <td>NaN</td>\n",
       "      <td>NaN</td>\n",
       "      <td>NaN</td>\n",
       "      <td>NaN</td>\n",
       "      <td>NaN</td>\n",
       "      <td>NaN</td>\n",
       "      <td>NaN</td>\n",
       "      <td>NaN</td>\n",
       "    </tr>\n",
       "    <tr>\n",
       "      <td>1</td>\n",
       "      <td>A00a Kop Zeedijk</td>\n",
       "      <td>500.0</td>\n",
       "      <td>82.0</td>\n",
       "      <td>304.0</td>\n",
       "      <td>54.0</td>\n",
       "      <td>34.0</td>\n",
       "      <td>55.0</td>\n",
       "      <td>50.0</td>\n",
       "      <td>21.0</td>\n",
       "      <td>1100</td>\n",
       "    </tr>\n",
       "    <tr>\n",
       "      <td>2</td>\n",
       "      <td>A00b Oude Kerk e.o.</td>\n",
       "      <td>339.0</td>\n",
       "      <td>42.0</td>\n",
       "      <td>210.0</td>\n",
       "      <td>28.0</td>\n",
       "      <td>21.0</td>\n",
       "      <td>53.0</td>\n",
       "      <td>35.0</td>\n",
       "      <td>0.0</td>\n",
       "      <td>728</td>\n",
       "    </tr>\n",
       "    <tr>\n",
       "      <td>3</td>\n",
       "      <td>A00c Burgwallen Oost</td>\n",
       "      <td>680.0</td>\n",
       "      <td>114.0</td>\n",
       "      <td>422.0</td>\n",
       "      <td>101.0</td>\n",
       "      <td>77.0</td>\n",
       "      <td>95.0</td>\n",
       "      <td>99.0</td>\n",
       "      <td>25.0</td>\n",
       "      <td>1613</td>\n",
       "    </tr>\n",
       "    <tr>\n",
       "      <td>4</td>\n",
       "      <td>A00d Nes e.o.</td>\n",
       "      <td>131.0</td>\n",
       "      <td>28.0</td>\n",
       "      <td>110.0</td>\n",
       "      <td>23.0</td>\n",
       "      <td>21.0</td>\n",
       "      <td>16.0</td>\n",
       "      <td>22.0</td>\n",
       "      <td>0.0</td>\n",
       "      <td>351</td>\n",
       "    </tr>\n",
       "  </tbody>\n",
       "</table>\n",
       "</div>"
      ],
      "text/plain": [
       "                  buurt  alleenstaand  gehuwd samenw. zonder kinderen  \\\n",
       "0                   NaN           NaN                             NaN   \n",
       "1      A00a Kop Zeedijk         500.0                            82.0   \n",
       "2   A00b Oude Kerk e.o.         339.0                            42.0   \n",
       "3  A00c Burgwallen Oost         680.0                           114.0   \n",
       "4         A00d Nes e.o.         131.0                            28.0   \n",
       "\n",
       "   ongehuwd samenw. zonder kinderen  gehuwd samenw. met kinderen  \\\n",
       "0                               NaN                          NaN   \n",
       "1                             304.0                         54.0   \n",
       "2                             210.0                         28.0   \n",
       "3                             422.0                        101.0   \n",
       "4                             110.0                         23.0   \n",
       "\n",
       "   ongehuwd samenw. met kinderen  eenoudergezin  overig  tehuisbewoner totaal  \n",
       "0                            NaN            NaN     NaN            NaN    NaN  \n",
       "1                           34.0           55.0    50.0           21.0   1100  \n",
       "2                           21.0           53.0    35.0            0.0    728  \n",
       "3                           77.0           95.0    99.0           25.0   1613  \n",
       "4                           21.0           16.0    22.0            0.0    351  "
      ]
     },
     "execution_count": 30,
     "metadata": {},
     "output_type": "execute_result"
    }
   ],
   "source": [
    "households = pd.read_excel('/Users/elskedenbode/Downloads/to be used for database 2020-Househould types.xlsx', skiprows=2)\n",
    "households.head()\n",
    "#To Do:\n",
    "#split ID (column Buurt) to create ID and Buurt name\n",
    "#Rename columns to the colum names in ERD\n",
    "#Sum household types (1, 2 and 6, 7, 8) and sum (3 and 4 gehuwd and ongehuwd samenw met kinderen) \n",
    "#Drop row 1\n",
    "#Relative paths for every dataframe"
   ]
  },
  {
   "cell_type": "code",
   "execution_count": 39,
   "metadata": {},
   "outputs": [
    {
     "data": {
      "text/html": [
       "<div>\n",
       "<style scoped>\n",
       "    .dataframe tbody tr th:only-of-type {\n",
       "        vertical-align: middle;\n",
       "    }\n",
       "\n",
       "    .dataframe tbody tr th {\n",
       "        vertical-align: top;\n",
       "    }\n",
       "\n",
       "    .dataframe thead th {\n",
       "        text-align: right;\n",
       "    }\n",
       "</style>\n",
       "<table border=\"1\" class=\"dataframe\">\n",
       "  <thead>\n",
       "    <tr style=\"text-align: right;\">\n",
       "      <th></th>\n",
       "      <th>buurt</th>\n",
       "      <th>2016</th>\n",
       "      <th>2017</th>\n",
       "      <th>2018</th>\n",
       "      <th>2019</th>\n",
       "      <th>totaal</th>\n",
       "      <th>mannen</th>\n",
       "      <th>vrouwen</th>\n",
       "    </tr>\n",
       "  </thead>\n",
       "  <tbody>\n",
       "    <tr>\n",
       "      <td>0</td>\n",
       "      <td>NaN</td>\n",
       "      <td>NaN</td>\n",
       "      <td>NaN</td>\n",
       "      <td>NaN</td>\n",
       "      <td>NaN</td>\n",
       "      <td>NaN</td>\n",
       "      <td>NaN</td>\n",
       "      <td>NaN</td>\n",
       "    </tr>\n",
       "    <tr>\n",
       "      <td>1</td>\n",
       "      <td>A00a Kop Zeedijk</td>\n",
       "      <td>1022</td>\n",
       "      <td>1024</td>\n",
       "      <td>1032</td>\n",
       "      <td>1035</td>\n",
       "      <td>1100</td>\n",
       "      <td>628</td>\n",
       "      <td>472</td>\n",
       "    </tr>\n",
       "    <tr>\n",
       "      <td>2</td>\n",
       "      <td>A00b Oude Kerk e.o.</td>\n",
       "      <td>673</td>\n",
       "      <td>664</td>\n",
       "      <td>689</td>\n",
       "      <td>704</td>\n",
       "      <td>728</td>\n",
       "      <td>414</td>\n",
       "      <td>314</td>\n",
       "    </tr>\n",
       "    <tr>\n",
       "      <td>3</td>\n",
       "      <td>A00c Burgwallen Oost</td>\n",
       "      <td>1616</td>\n",
       "      <td>1580</td>\n",
       "      <td>1589</td>\n",
       "      <td>1573</td>\n",
       "      <td>1613</td>\n",
       "      <td>857</td>\n",
       "      <td>756</td>\n",
       "    </tr>\n",
       "    <tr>\n",
       "      <td>4</td>\n",
       "      <td>A00d Nes e.o.</td>\n",
       "      <td>372</td>\n",
       "      <td>360</td>\n",
       "      <td>361</td>\n",
       "      <td>352</td>\n",
       "      <td>351</td>\n",
       "      <td>195</td>\n",
       "      <td>156</td>\n",
       "    </tr>\n",
       "  </tbody>\n",
       "</table>\n",
       "</div>"
      ],
      "text/plain": [
       "                  buurt  2016  2017  2018  2019 totaal mannen vrouwen\n",
       "0                   NaN   NaN   NaN   NaN   NaN    NaN    NaN     NaN\n",
       "1      A00a Kop Zeedijk  1022  1024  1032  1035   1100    628     472\n",
       "2   A00b Oude Kerk e.o.   673   664   689   704    728    414     314\n",
       "3  A00c Burgwallen Oost  1616  1580  1589  1573   1613    857     756\n",
       "4         A00d Nes e.o.   372   360   361   352    351    195     156"
      ]
     },
     "execution_count": 39,
     "metadata": {},
     "output_type": "execute_result"
    }
   ],
   "source": [
    "population = pd.read_excel('/Users/elskedenbode/Downloads/to be used for database 2020-buurten total and split between men and women.xlsx', skiprows=3)\n",
    "population.head()\n",
    "#To Do:\n",
    "#split ID (column Buurt) to create ID and Buurt name\n",
    "#Rename columns to the colum names in ERD\n",
    "#Drop 2016, 2017, 2018, 2019 and total\n",
    "#Drop row 1\n",
    "#Relative paths for every dataframe"
   ]
  },
  {
   "cell_type": "code",
   "execution_count": 43,
   "metadata": {},
   "outputs": [
    {
     "ename": "AttributeError",
     "evalue": "'Series' object has no attribute 'find_pattern'",
     "output_type": "error",
     "traceback": [
      "\u001b[0;31m---------------------------------------------------------------------------\u001b[0m",
      "\u001b[0;31mAttributeError\u001b[0m                            Traceback (most recent call last)",
      "\u001b[0;32m<ipython-input-43-ae924a05ebac>\u001b[0m in \u001b[0;36m<module>\u001b[0;34m\u001b[0m\n\u001b[1;32m      1\u001b[0m \u001b[0mpattern\u001b[0m \u001b[0;34m=\u001b[0m \u001b[0;34m[\u001b[0m\u001b[0;34m'\\W'\u001b[0m\u001b[0;34m]\u001b[0m\u001b[0;34m\u001b[0m\u001b[0;34m\u001b[0m\u001b[0m\n\u001b[0;32m----> 2\u001b[0;31m \u001b[0mpopulation\u001b[0m\u001b[0;34m[\u001b[0m\u001b[0;34m'buurt'\u001b[0m\u001b[0;34m]\u001b[0m\u001b[0;34m.\u001b[0m\u001b[0mfind_pattern\u001b[0m\u001b[0;34m\u001b[0m\u001b[0;34m\u001b[0m\u001b[0m\n\u001b[0m",
      "\u001b[0;32m~/opt/anaconda3/lib/python3.7/site-packages/pandas/core/generic.py\u001b[0m in \u001b[0;36m__getattr__\u001b[0;34m(self, name)\u001b[0m\n\u001b[1;32m   5177\u001b[0m             \u001b[0;32mif\u001b[0m \u001b[0mself\u001b[0m\u001b[0;34m.\u001b[0m\u001b[0m_info_axis\u001b[0m\u001b[0;34m.\u001b[0m\u001b[0m_can_hold_identifiers_and_holds_name\u001b[0m\u001b[0;34m(\u001b[0m\u001b[0mname\u001b[0m\u001b[0;34m)\u001b[0m\u001b[0;34m:\u001b[0m\u001b[0;34m\u001b[0m\u001b[0;34m\u001b[0m\u001b[0m\n\u001b[1;32m   5178\u001b[0m                 \u001b[0;32mreturn\u001b[0m \u001b[0mself\u001b[0m\u001b[0;34m[\u001b[0m\u001b[0mname\u001b[0m\u001b[0;34m]\u001b[0m\u001b[0;34m\u001b[0m\u001b[0;34m\u001b[0m\u001b[0m\n\u001b[0;32m-> 5179\u001b[0;31m             \u001b[0;32mreturn\u001b[0m \u001b[0mobject\u001b[0m\u001b[0;34m.\u001b[0m\u001b[0m__getattribute__\u001b[0m\u001b[0;34m(\u001b[0m\u001b[0mself\u001b[0m\u001b[0;34m,\u001b[0m \u001b[0mname\u001b[0m\u001b[0;34m)\u001b[0m\u001b[0;34m\u001b[0m\u001b[0;34m\u001b[0m\u001b[0m\n\u001b[0m\u001b[1;32m   5180\u001b[0m \u001b[0;34m\u001b[0m\u001b[0m\n\u001b[1;32m   5181\u001b[0m     \u001b[0;32mdef\u001b[0m \u001b[0m__setattr__\u001b[0m\u001b[0;34m(\u001b[0m\u001b[0mself\u001b[0m\u001b[0;34m,\u001b[0m \u001b[0mname\u001b[0m\u001b[0;34m,\u001b[0m \u001b[0mvalue\u001b[0m\u001b[0;34m)\u001b[0m\u001b[0;34m:\u001b[0m\u001b[0;34m\u001b[0m\u001b[0;34m\u001b[0m\u001b[0m\n",
      "\u001b[0;31mAttributeError\u001b[0m: 'Series' object has no attribute 'find_pattern'"
     ]
    }
   ],
   "source": [
    "# Import all the above to the Database"
   ]
  },
  {
   "cell_type": "markdown",
   "metadata": {},
   "source": [
    "# 2. Data Cleaning\n"
   ]
  },
  {
   "cell_type": "markdown",
   "metadata": {},
   "source": [
    "1. Importing pandas, pymysql and sqlalchemy"
   ]
  },
  {
   "cell_type": "code",
   "execution_count": 1,
   "metadata": {},
   "outputs": [],
   "source": [
    "import pandas as pd"
   ]
  },
  {
   "cell_type": "code",
   "execution_count": 2,
   "metadata": {},
   "outputs": [],
   "source": [
    "import pymysql\n",
    "from sqlalchemy import create_engine"
   ]
  },
  {
   "cell_type": "markdown",
   "metadata": {},
   "source": [
    "2. Creating a connection to the database, see the connection details [here](https://github.com/cmerticaru/Project_2_Amsterdam_dataptams2020/tree/master/your-project)"
   ]
  },
  {
   "cell_type": "code",
   "execution_count": null,
   "metadata": {},
   "outputs": [],
   "source": [
    "connection = create_engine('#insert link here later')"
   ]
  },
  {
   "cell_type": "code",
   "execution_count": null,
   "metadata": {},
   "outputs": [],
   "source": [
    "3. Checking for missing values"
   ]
  },
  {
   "cell_type": "code",
   "execution_count": null,
   "metadata": {},
   "outputs": [],
   "source": [
    "null_values = #df_name.isnull().sum()\n",
    "null_values"
   ]
  },
  {
   "cell_type": "markdown",
   "metadata": {},
   "source": [
    "# 3. Data Analysis\n",
    "First steps in analyzing the data"
   ]
  },
  {
   "cell_type": "markdown",
   "metadata": {},
   "source": [
    "1. Correlation (neighbourhoods with children and crimes)\n",
    "\n",
    "Is there a relationship between household types and fellony rates within neighbourhoods?"
   ]
  },
  {
   "cell_type": "code",
   "execution_count": null,
   "metadata": {},
   "outputs": [],
   "source": [
    "#df_name.corr[#household_column].sort_values([household_column], ascending = False)"
   ]
  },
  {
   "cell_type": "markdown",
   "metadata": {},
   "source": [
    "2. Qcut - top 25% safest neighbourhoods\n",
    "2. Sum Vandalism/Aggression and Violence+SequalAssault -> order Ascending and get top 10\n",
    "3. Get % households with families"
   ]
  },
  {
   "cell_type": "code",
   "execution_count": null,
   "metadata": {},
   "outputs": [],
   "source": []
  }
 ],
 "metadata": {
  "kernelspec": {
   "display_name": "Python 3",
   "language": "python",
   "name": "python3"
  },
  "language_info": {
   "codemirror_mode": {
    "name": "ipython",
    "version": 3
   },
   "file_extension": ".py",
   "mimetype": "text/x-python",
   "name": "python",
   "nbconvert_exporter": "python",
   "pygments_lexer": "ipython3",
   "version": "3.7.4"
  }
 },
 "nbformat": 4,
 "nbformat_minor": 2
}
